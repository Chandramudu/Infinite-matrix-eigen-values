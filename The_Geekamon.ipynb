{
  "nbformat": 4,
  "nbformat_minor": 0,
  "metadata": {
    "colab": {
      "provenance": [],
      "authorship_tag": "ABX9TyOarqF9UkP85GH4sG7U4aa9",
      "include_colab_link": true
    },
    "kernelspec": {
      "name": "python3",
      "display_name": "Python 3"
    },
    "language_info": {
      "name": "python"
    }
  },
  "cells": [
    {
      "cell_type": "markdown",
      "metadata": {
        "id": "view-in-github",
        "colab_type": "text"
      },
      "source": [
        "<a href=\"https://colab.research.google.com/github/Chandramudu/Infinite-matrix-eigen-values/blob/main/The_Geekamon.ipynb\" target=\"_parent\"><img src=\"https://colab.research.google.com/assets/colab-badge.svg\" alt=\"Open In Colab\"/></a>"
      ]
    },
    {
      "cell_type": "markdown",
      "source": [
        "Start of the Game\n",
        "\n",
        "Game Rules:\n",
        "\n",
        "The game begins with a brief introduction to Python fundamentals. This could include a short tutorial or a list of topics that will be covered in the quiz.\n",
        "Question Format: Each question should be presented in a multiple-choice format, with one correct answer and several incorrect options. The incorrect options should be plausible to ensure the game is challenging.\n",
        "\n",
        "\n",
        "Progression: The game could start with easier questions and gradually increase in difficulty. This would help players build their knowledge incrementally.\n",
        "Time Limit: Consider adding a time limit for each question to make the game more exciting. This would also encourage players to think quickly, a valuable skill in programming.\n",
        "\n",
        "\n",
        "Help Options: You could provide help options, such as hints or the ability to skip a question, which players can use a limited number of times.\n",
        "End of the Game: The game ends when the player has answered all the questions or if they choose to end the game prematurely.\n",
        "\n",
        "\n",
        "Reward Mechanisms:\n",
        "Points: Award points for each correct answer. The number of points could be based on the difficulty of the question or how quickly the player answered.\n",
        "Levels: Players could progress through levels as they accumulate points. Each level could introduce more advanced Python topics.\n",
        "\n",
        "\n",
        "Badges: Award badges for significant achievements, such as answering a certain number of questions correctly in a row, completing a level without any mistakes, or answering a question exceptionally quickly.\n",
        "\n",
        "\n",
        "Leaderboard: Implement a leaderboard to foster a sense of competition. Players can strive to improve their ranking by earning more points.\n",
        "\n",
        "\n",
        "Feedback: Provide constructive feedback when players answer a question incorrectly. This could include an explanation of the correct answer, which would turn a mistake into a learning opportunity."
      ],
      "metadata": {
        "id": "HJ_BpRT_HoBV"
      }
    },
    {
      "cell_type": "code",
      "source": [
        "class QuizGame:\n",
        "    def __init__(self):\n",
        "        self.levels = ['Novice', 'Beginner', 'Competent', 'Proficient', 'Expert', 'Professional', 'Master', 'Grandmaster', 'Champion', 'Legend']\n",
        "        self.questions = [\n",
        "            (\"What is the correct file extension for Python files?\", [\".pyth\", \".pt\", \".py\", \".p\"], 3, \"Python scripts are saved with a .py extension.\"),\n",
        "            (\"Which one is NOT a legal variable name?\", [\"my_var\", \"mVar\", \"var1\", \"_my_var\", \"2myvar\"], 5, \"Variable names cannot start with a number.\"),\n",
        "            (\"How do you create a variable with the numeric value 5?\", [\"x = 5\", \"5 = x\", \"x == 5\", \"x: 5\"], 1, \"In Python, you can create a variable using the equals sign (=).\"),\n",
        "            (\"What is the output of the following: print(type(1))?\", [\"<class 'int'>\", \"<class 'str'>\", \"<class 'float'>\", \"<class 'bool'>\"], 1, \"The number 1 is an integer, so the type function returns <class 'int'>.\"),\n",
        "            (\"What does the 'len' function do in Python?\", [\"Returns the length of an object\", \"Deletes an object\", \"Returns the type of an object\", \"None of the above\"], 1, \"The len function in Python returns the length of an object.\"),\n",
        "            (\"What will be the output of the following Python code snippet: print(2**3)?\", [\"6\", \"8\", \"9\", \"5\"], 2, \"The double asterisk (**) is an exponent operator in Python. So, 2**3 equals 8.\"),\n",
        "            (\"What is the correct syntax to output the type of a variable or object in Python?\", [\"print(type(x))\", \"print(typeof x)\", \"print(typeOf(x))\", \"print(typeof(x))\"], 1, \"In Python, you can use the type function to get the type of a variable or object.\"),\n",
        "            (\"What is the output of the following: print(10 > 9)?\", [\"True\", \"False\", \"None\", \"Error\"], 1, \"The expression 10 > 9 is True, so the output is True.\"),\n",
        "            (\"What is the correct way to create a function in Python?\", [\"def my_function():\", \"function my_function():\", \"create my_function():\", \"function:my_function()\"], 1, \"In Python, you can define a function using the def keyword.\"),\n",
        "            (\"How can you generate a random number in Python?\", [\"random.randint()\", \"random()\", \"randint()\", \"random(0, 1)\"], 1, \"In Python, you can use the randint function from the random module to generate a random number.\"),\n",
        "            (\"What is the correct way to import a module named 'mymodule'?\", [\"import mymodule\", \"from mymodule import\", \"import 'mymodule'\", \"import.module mymodule\"], 1, \"In Python, you can import a module using the import keyword.\"),\n",
        "            (\"What is the output of the following: print(bool('False'))?\", [\"True\", \"False\", \"None\", \"Error\"], 1, \"In Python, the bool function returns True for any non-empty string, including the string 'False'.\"),\n",
        "            (\"What is the correct syntax to indicate that a function belongs to a class?\", [\"def this.my_function():\", \"def function.my():\", \"def my_function(self):\", \"def my_function(this):\"], 3, \"In Python, you can indicate that a function belongs to a class by including self as the first parameter.\"),\n",
        "            (\"What is used to define a block of code (body of loop, function etc.) in Python?\", [\"Curly braces\", \"Parentheses\", \"Indentation\", \"Quotation\"], 3, \"In Python, indentation is used to define a block of code.\"),\n",
        "            (\"What is the output of the following: print('Hello World'[::-1])?\", [\"Hello World\", \"dlroW olleH\", \"Error\", \"None\"], 2, \"In Python, you can use slicing with a step of -1 to reverse a string.\"),\n",
        "            (\"What is the output of the following: print(list(range(5)))?\", [\"[0, 1, 2, 3, 4]\", \"[1, 2, 3, 4, 5]\", \"[0, 1, 2, 3, 4, 5]\", \"Error\"], 1, \"The range function in Python generates a sequence of numbers starting from 0 by default, and stops before a specified number.\"),\n",
        "            (\"What is the output of the following: print('abc' * 3)?\", [\"abcabcabc\", \"abc3\", \"abcabc\", \"Error\"], 1, \"In Python, you can use the multiplication operator to repeat a string a certain number of times.\"),\n",
        "            (\"What is the output of the following: print(3 >= 3)?\", [\"True\", \"False\", \"None\", \"Error\"], 1, \"The expression 3 >= 3 is True, because 3 is equal to 3.\"),\n",
        "            (\"What is the output of the following: print(3 // 2)?\", [\"1\", \"1.5\", \"2\", \"Error\"], 1, \"The double slash (//) is a floor division operator in Python. So, 3 // 2 equals 1.\"),\n",
        "            (\"What is the output of the following: print(3 / 2)?\", [\"1\", \"1.5\", \"2\", \"Error\"], 2, \"The single slash (/) is a division operator in Python. So, 3 / 2 equals 1.5.\"),\n",
        "        ]\n",
        "\n",
        "    def play(self):\n",
        "        for i in range(20):\n",
        "            print(f\"Level {i+1}: {self.levels[i // 2]}\")\n",
        "            question, options, answer, explanation = self.questions[i]\n",
        "            print(question)\n",
        "            for j, option in enumerate(options):\n",
        "                print(f\"{j+1}. {option}\")\n",
        "            user_answer = int(input(\"Your answer: \"))\n",
        "            if user_answer == answer:\n",
        "                print(\"Correct!\")\n",
        "            else:\n",
        "                print(\"Incorrect.\")\n",
        "            print(\"Explanation: \", explanation)\n",
        "\n",
        "# Example usage:\n",
        "game = QuizGame()\n",
        "game.play()\n"
      ],
      "metadata": {
        "colab": {
          "base_uri": "https://localhost:8080/"
        },
        "id": "WZpxTU65DShg",
        "outputId": "8364e0ba-aafb-487a-be32-4644be557d58"
      },
      "execution_count": null,
      "outputs": [
        {
          "output_type": "stream",
          "name": "stdout",
          "text": [
            "Level 1: Novice\n",
            "What is the correct file extension for Python files?\n",
            "1. .pyth\n",
            "2. .pt\n",
            "3. .py\n",
            "4. .p\n"
          ]
        }
      ]
    }
  ]
}